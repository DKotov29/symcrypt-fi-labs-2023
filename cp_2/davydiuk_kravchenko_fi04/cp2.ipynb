{
  "nbformat": 4,
  "nbformat_minor": 0,
  "metadata": {
    "colab": {
      "provenance": []
    },
    "kernelspec": {
      "name": "python3",
      "display_name": "Python 3"
    },
    "language_info": {
      "name": "python"
    }
  },
  "cells": [
    {
      "cell_type": "code",
      "execution_count": 7,
      "metadata": {
        "id": "cjFtE-dlnmMT"
      },
      "outputs": [],
      "source": [
        "alph = \"абвгдежзийклмнопрстуфхцчшщъыьэюя\"\n",
        "p = [0.0801, 0.0159, 0.0454, 0.0165, 0.0298, 0.0845, 0.0899, 0.0254, 0.0716, 0.0007, 0.0186, 0.0523, 0.0312, 0.0670, 0.1097, 0.0281,\n",
        "         0.0473, 0.0547, 0.0626, 0.0262, 0.0026, 0.0097, 0.0048, 0.0144, 0.0073, 0.0062, 0.0457, 0.0310, 0.0739, 0.0201, 0.0010, 0.0047]"
      ]
    },
    {
      "cell_type": "code",
      "source": [
        "def process_text(text):\n",
        "    result = \"\"\n",
        "    for char in text.lower():\n",
        "        if char in alph:\n",
        "            result += char\n",
        "    return result"
      ],
      "metadata": {
        "id": "U_nyHTZlrQIv"
      },
      "execution_count": 8,
      "outputs": []
    },
    {
      "cell_type": "code",
      "source": [
        "def encrypt(text, key):\n",
        "    result = \"\"\n",
        "    k_len = len(key)\n",
        "    key_i = 0\n",
        "    for char in text:\n",
        "        key_char = key[key_i % k_len]\n",
        "        key_i += 1\n",
        "        result += alph[(alph.index(char) + alph.index(key_char)) % 32]\n",
        "    return result\n",
        "\n",
        "def decrypt(encrypted, key):\n",
        "    result = \"\"\n",
        "    k_len = len(key)\n",
        "    key_i = 0\n",
        "    for char in encrypted:\n",
        "        result += alph[(alph.index(char) - alph.index(key[key_i % k_len])) % 32]\n",
        "        key_i += 1\n",
        "    return result\n"
      ],
      "metadata": {
        "id": "EFq2xkrXrhwK"
      },
      "execution_count": 9,
      "outputs": []
    },
    {
      "cell_type": "code",
      "source": [
        "def calculate_ioc(text):\n",
        "    t_len = len(text)\n",
        "    freq = [0] * 32\n",
        "    for char in text:\n",
        "        freq[alph.index(char)] += 1\n",
        "    return sum([(f * (f - 1)) / (t_len * (t_len - 1)) for f in freq])\n",
        "\n",
        "\n",
        "\n",
        "def divide_blocks(text, r):\n",
        "    blocks = []\n",
        "    for i in range(r):\n",
        "        block = text[i::r]\n",
        "        blocks.append(block)\n",
        "    return blocks\n",
        "\n",
        "\n",
        "def key_len(text):\n",
        "    k_len = {}\n",
        "    for k in range(2, 32):\n",
        "        i = 0\n",
        "        blocks = divide_blocks(text, k)\n",
        "        for b in blocks:\n",
        "            i += calculate_ioc(b)\n",
        "        k_len[k] = i / len(blocks)\n",
        "   # print(f\"{k_len}\")\n",
        "    return max(k_len, key=k_len.get)\n"
      ],
      "metadata": {
        "id": "pgS846BMprQE"
      },
      "execution_count": 10,
      "outputs": []
    },
    {
      "cell_type": "code",
      "source": [
        "def find_key_M_method(text, r):\n",
        "    key = \"\"\n",
        "    blocks = divide_blocks(text, r)\n",
        "    for i in range(r):\n",
        "        k = 0\n",
        "        M = 0\n",
        "        for j in range(32):\n",
        "            tempM = 0\n",
        "            for d in range(32):\n",
        "                tempM += p[d] * blocks[i].count(alph[(d + j) % 32])\n",
        "            if tempM > M:\n",
        "                M = tempM\n",
        "                k = j\n",
        "        key += alph[k]\n",
        "    return key"
      ],
      "metadata": {
        "id": "0t9zlHiDrmMj"
      },
      "execution_count": 11,
      "outputs": []
    },
    {
      "cell_type": "code",
      "source": [
        "def main():\n",
        "    with open(\"/content/sample_data/to_encrypt.txt\", \"r\") as file:\n",
        "        text = process_text(file.read())\n",
        "\n",
        "    keys = [\n",
        "        'ка',\n",
        "        'щфл',\n",
        "        'школ',\n",
        "        'фгурт',\n",
        "        'йомайкафрам',\n",
        "        'ахбольшойрастет',]\n",
        "\n",
        "    #encrypted_texts = []\n",
        "    iocs = {}\n",
        "\n",
        "    for key in keys:\n",
        "        #encrypted_texts.append(encrypt(text, key))\n",
        "        #print(\"ого \" + encrypt(text, key))\n",
        "        iocs[key] = calculate_ioc(encrypt(text, key))\n",
        "\n",
        "    print(f\"IOC: \\nioc тексту: {calculate_ioc(text)}\")\n",
        "    for key, ioc in iocs.items():\n",
        "        print(f\"З Ключем \\\"{key}\\\" ioc: {ioc}\")\n",
        "\n",
        "    to_decrypt = process_text(open(\"/content/sample_data/to_decrypt.txt\", \"r\").read())\n",
        "\n",
        "    key_length = key_len(to_decrypt)\n",
        "    print(\"Довжина ключа: \" + str(key_length))\n",
        "\n",
        "    key = find_key_M_method(to_decrypt, key_length)\n",
        "    print(\"Ключ: \" + key)\n",
        "\n",
        "    file = open(\"decrypted.txt\", \"w\")\n",
        "    file.write(decrypt(to_decrypt, key))\n",
        "    file.close()\n",
        "main()"
      ],
      "metadata": {
        "colab": {
          "base_uri": "https://localhost:8080/"
        },
        "id": "PLGau5prrnlQ",
        "outputId": "d6c8eab1-4f8d-4684-c66a-2bbcc92632e0"
      },
      "execution_count": 12,
      "outputs": [
        {
          "output_type": "stream",
          "name": "stdout",
          "text": [
            "IOC: \n",
            "ioc тексту: 0.05626390172124696\n",
            "З Ключем \"ка\" ioc: 0.04006091092632516\n",
            "З Ключем \"щфл\" ioc: 0.04014988194230572\n",
            "З Ключем \"школ\" ioc: 0.0382541149094891\n",
            "З Ключем \"фгурт\" ioc: 0.038435478903603326\n",
            "З Ключем \"йомайкафрам\" ioc: 0.034151182287923895\n",
            "З Ключем \"ахбольшойрастет\" ioc: 0.03323751839304657\n",
            "Довжина ключа: 14\n",
            "Ключ: явнодругойключ\n"
          ]
        }
      ]
    }
  ]
}